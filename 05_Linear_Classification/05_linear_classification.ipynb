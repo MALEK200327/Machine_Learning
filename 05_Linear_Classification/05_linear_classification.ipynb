{
  "cells": [
    {
      "cell_type": "markdown",
      "id": "ae2223fa",
      "metadata": {
        "id": "ae2223fa"
      },
      "source": [
        "# COM2004/3004 - Linear Classification"
      ]
    },
    {
      "cell_type": "markdown",
      "id": "9b2b8366",
      "metadata": {
        "id": "9b2b8366"
      },
      "source": [
        "*Copyright &copy; 2023 University of Sheffield. All rights reserved*."
      ]
    },
    {
      "cell_type": "markdown",
      "id": "2f907d23",
      "metadata": {
        "id": "2f907d23"
      },
      "source": [
        "## Objectives\n",
        "\n",
        "* To gain some practical experience with linear classification.\n",
        "* To reduce a Bayesian classifier to a linear classifier by constraining the covariances of the classes to be equal.\n",
        "* To compare the performance of agenerative model and a discriminative model on a challenging classification task.\n",
        "\n",
        "## 1. Background\n",
        "\n",
        "In this lab class, we will be comparing ‘generative modelling’ and ‘discriminative modelling’ ap- proaches to linear classification. For the ‘generative’ approach, we will be revisiting the Bayesian classification code that we used in the previous exercises but we will constrain the system to have equal covariance matrices, i.e., one covariance matrix to represent all the classes, rather than each class having its own covariance matrix. Under this condition the system becomes a linear classifier. We will compare this with a ‘discriminative’ approach where we directly learn the linear classifier parameters using the perceptron learning algorithm.\n",
        "\n",
        "## 2. Introduction\n",
        "\n",
        "In this notebook we will be using another data set from the UCI machine-learning repository: abalone data. An abalone is a type of sea snail. The age of a specimen can be determined by cutting the shell through the cone and counting rings through a microscope (rather like trees), but this is a time consuming and expensive procedure. The task here is to try and predict the number of rings given simple external measurements of the weight and dimension of the animal.\n",
        "\n",
        "For the data set that we are using, the true value for the number of rings is known (i.e., the rings were counted after the snails were measured). Results vary from 1 to 29 rings, so this would usually be treated as a 29-class classification problem. To simplify things a little I have regrouped the data into just two classes of roughly equal size: young (less than 10 rings) and old (10 or more rings). I have also only taken the female samples. There are 7 measurements (which are all quite highly correlated) that are to be used to predict the class label. (The precise meaning of the measurements can be found here http://archive.ics.uci.edu/ml/machine-learning-databases/abalone/abalone.names)\n",
        "\n",
        "Compared to the wine classification task, this task is more challenging. It will be impossible to get 100% correct because the classes are not linearly separable. Further, most of the specimens have either 8, 9, 10 or 11 rings and so lie close to the young/old borderline. However, you should be able to get percentage correct scores that are considerably higher than the 50% that would be expected by guessing alone."
      ]
    },
    {
      "cell_type": "markdown",
      "id": "cc297381",
      "metadata": {
        "id": "cc297381"
      },
      "source": [
        "## Task 1. Obtaining data\n",
        "\n",
        "As in previous lab classes, the data can be read directly into an numpy array using the numpy loadtxt function, as in the cell below. The data will form a matrix with 1,307 rows and 8 columns. Each row is a separate sample (i.e., a different snail). The first column stores a class label (1 for ‘young’ or 2 for ‘old’). Columns 1 to 7 are the results of the 7 length and weight measurements."
      ]
    },
    {
      "cell_type": "code",
      "execution_count": 5,
      "id": "8f8d4f10",
      "metadata": {
        "id": "8f8d4f10"
      },
      "outputs": [
        {
          "data": {
            "text/plain": [
              "(1307, 8)"
            ]
          },
          "execution_count": 5,
          "metadata": {},
          "output_type": "execute_result"
        }
      ],
      "source": [
        "import numpy as np\n",
        "X = np.loadtxt(open(\"data/abalone.txt\", \"r\"))\n",
        "X.shape"
      ]
    },
    {
      "cell_type": "markdown",
      "id": "bb47d75c",
      "metadata": {
        "id": "bb47d75c"
      },
      "source": [
        "## Task 2. Generative modeling: Bayesian classification with equi-covariant multi-variate normal distributions.\n",
        "\n",
        "Compared to last notebook, there are a lot more samples (1,307 compared with 178) so we will not worry about leave-one-out testing, instead, we will simply cut the data into equal sized testing and training sets like we did in the first half of the last notebook.\n",
        "\n",
        "By adapting the code you wrote last time, evaluate the performance of a Bayesian classifier using multivariate normal distributions with full covariance matrics. When considering changes to the code, note that the main difference is that in this notebook there are only two classes rather than three. (If you wish you may trying wrapping the code into a function and seeing if you can design it so that it works for any number of classes.)\n",
        "\n",
        "How well does your classifier perform? The score will probably be in the 60%-70% range for this task, so don’t worry if performance seems a lot poorer than that for the previous task. If the perfomance is less the 60% then you should check your code for possible bugs."
      ]
    },
    {
      "cell_type": "code",
      "execution_count": 6,
      "id": "86c94fab",
      "metadata": {
        "id": "86c94fab"
      },
      "outputs": [
        {
          "name": "stdout",
          "output_type": "stream",
          "text": [
            "(424, 8)\n",
            "(212, 8)\n",
            "(2, 654)\n",
            "(654,)\n",
            "[64.52599388]\n"
          ]
        },
        {
          "data": {
            "image/png": "[encoded data removed]",
            "text/plain": [
              "<Figure size 640x480 with 1 Axes>"
            ]
          },
          "metadata": {},
          "output_type": "display_data"
        }
      ],
      "source": [
        "from scipy.stats import multivariate_normal\n",
        "import matplotlib.pyplot as plt\n",
        "%matplotlib inline\n",
        "abalone1 = X[X[:, 0] == 1]\n",
        "abalone2 = X[X[:, 0] == 2]\n",
        "print(abalone1.shape)\n",
        "abalone1_test = abalone1[0::2, :]\n",
        "print(abalone1_test.shape)\n",
        "abalone1_train = abalone1[1::2, :]\n",
        "\n",
        "abalone2_test = abalone2[0::2, :]\n",
        "abalone2_train = abalone2[1::2, :]\n",
        "abalone_test = np.vstack((abalone1_test, abalone2_test))\n",
        "abalone_test.shape\n",
        "'''\n",
        "adapting the code by with full covariance matrics\n",
        "'''\n",
        "mean1 = np.mean(abalone1_train[:, 1:], axis=0)\n",
        "mean2 = np.mean(abalone2_train[:, 1:], axis=0)\n",
        "cov1 = np.cov(abalone1_train[:, 1:], rowvar=0)\n",
        "cov2 = np.cov(abalone2_train[:, 1:], rowvar=0)\n",
        "\n",
        "dist1 = multivariate_normal(mean=mean1, cov=cov1)\n",
        "dist2 = multivariate_normal(mean=mean2, cov=cov2)\n",
        "p1 = dist1.pdf(abalone_test[:, 1:])\n",
        "p2 = dist2.pdf(abalone_test[:, 1:])\n",
        "p = np.vstack((p1, p2))\n",
        "print(p.shape)\n",
        "index = np.argmax(p, axis=0) + 1\n",
        "print(index.shape)\n",
        "plt.plot(index, \"k.\", ms=10)\n",
        "correct = abalone_test[:, 0] == index\n",
        "percent_correct = np.sum(correct) * 100.0 / index.shape\n",
        "print(percent_correct)"
      ]
    },
    {
      "cell_type": "markdown",
      "id": "27a9f64a",
      "metadata": {
        "id": "27a9f64a"
      },
      "source": [
        "**Using equal covariance matrices.**\n",
        "If you correctly followed the same procedures as last notebook you will have estimated a separate covariance matrix for each class. These matrices will not be equal and so your system will not be a linear classifier (i.e., it will have a non-planar decision boundary). In order to reduce it down to a linear system we need to ensure that there is only one covariance matrix. There are different ways that you might imagine doing this:\n",
        "\n",
        "First, you might imagine simply estimating a single covariance matrix from the complete training set before dividing it into classes. This produces a single matrix but it is not the correct thing to do. We want the matrix to represent the spread within the classes, if you simply train a model using the full training data set it will also be capturing the spread between the classes.\n",
        "\n",
        "Second, you could imagine averaging the two class-dependent covariance matrices. This is closer to the correct thing but it doesn’t take care of the fact that the classes might have had unequal numbers of examples.\n",
        "The best approach is to first move the centres of the two classes onto the same point and then treat them as a single class. To move the class centres onto the same point you can simply subtract the class mean vector from each data sample.\n",
        "\n",
        "E.g., for each sample in class one you need to compute,\n",
        "\n",
        "**abalone1_train (i, :)   – mean1**\n",
        "\n",
        "and for each sample in class two you would compute,\n",
        "\n",
        "**abalone2_train(i, :)   – mean2**\n",
        "\n",
        "You can do this without a loop. In fact you can just type\n",
        "\n",
        "**abalone1_train   – mean1**\n",
        "\n",
        "\n",
        "When numpy sees a vector being subtracted from a matrix like this, it will automatically copy the vector so that it is subtracted from every row of the matrix (this is called ‘broadcasting’).\n",
        "\n",
        "Go ahead and modify your code so that a single covariance matrix is computed called, for example, cov_global."
      ]
    },
    {
      "cell_type": "code",
      "execution_count": 7,
      "id": "c2bc51a3",
      "metadata": {
        "id": "c2bc51a3"
      },
      "outputs": [],
      "source": [
        "def centre_data(data):\n",
        "    '''\n",
        "    complete the code here\n",
        "    '''\n",
        "    nsamples = data.shape[0]\n",
        "    data_mean = np.mean(data, axis=0)\n",
        "    data_centred = data - data_mean\n",
        "    return data_centred\n",
        "abalone1_centred = centre_data(abalone1_train)\n",
        "abalone2_centred = centre_data(abalone2_train)\n",
        "abalone_centred = np.vstack((abalone1_centred, abalone2_centred))\n",
        "cov_global = np.cov(abalone_centred[:, 1:], rowvar=0)"
      ]
    },
    {
      "cell_type": "markdown",
      "id": "a7c49934",
      "metadata": {
        "id": "a7c49934"
      },
      "source": [
        "You can now redo the classification using this single matrix in both the mvnpdf evaluations, i.e.,\n",
        "\n",
        "**p1 = mvnpdf(abalone1_test, mean1, cov_global);**\n",
        "\n",
        "**p2 = mvnpdf(abalone2_test, mean2, cov_global);**\n",
        "\n",
        "**etc**\n",
        "\n",
        "What is the new result? How does it compare with the result when using the more flexible non-linear classifer (i.e., when using two different covariance matrices)?"
      ]
    },
    {
      "cell_type": "code",
      "execution_count": 8,
      "id": "8a169032",
      "metadata": {
        "id": "8a169032"
      },
      "outputs": [
        {
          "name": "stdout",
          "output_type": "stream",
          "text": [
            "[67.12538226]\n"
          ]
        },
        {
          "data": {
            "image/png": "[encoded data removed]",
            "text/plain": [
              "<Figure size 640x480 with 1 Axes>"
            ]
          },
          "metadata": {},
          "output_type": "display_data"
        }
      ],
      "source": [
        "dist1 = multivariate_normal(mean=mean1, cov=cov_global)\n",
        "dist2 = multivariate_normal(mean=mean2, cov=cov_global)\n",
        "p1 = dist1.pdf(abalone_test[:, 1:])\n",
        "p2 = dist2.pdf(abalone_test[:, 1:])\n",
        "p = np.vstack((p1, p2))\n",
        "index = np.argmax(p, axis=0) + 1\n",
        "plt.plot(index, \"k.\", ms=10)\n",
        "correct = abalone_test[:, 0] == index\n",
        "percent_correct = np.sum(correct) * 100.0 / index.shape\n",
        "print(percent_correct)"
      ]
    },
    {
      "cell_type": "markdown",
      "id": "fe384dd2",
      "metadata": {
        "id": "fe384dd2"
      },
      "source": [
        "If we wished, we could represent this linear Gaussian classifier in the standard linear classifier form, i.e. g(x) = w’x + w0 and output ω1 if g(x) > 0 else ω2. The parameters w’ and w0 would simply be a function of the covariance matrix and the class means that we have learnt from the training data. Actually, although this would involve an extra bit of calculation, once we had computed w’ and w0, all the test points could be classified very quickly by evaluating g(x) directly (e.g., for an N -dimension problem this amounts to just N + 1 multiplications, N additions and a comparison against 0)."
      ]
    },
    {
      "cell_type": "markdown",
      "id": "d49db1d5",
      "metadata": {
        "id": "d49db1d5"
      },
      "source": [
        "## PART 2 – Programming Challenge\n",
        "\n",
        "## 4.1 8. Programming exercise\n",
        "\n",
        "**Exercise 1.** Simulate tossing a fair coin 1,000,000 times. Count the length of each sequence of identical outcomes. Plot a histogram of the result.\n",
        "\n",
        "For example, the following sequence, H H H T T H H H H T T T, would count as 1 sequence of 2 (T T); 2 sequences of 3 (H H H and T T T) and 1 sequence of 4 (H H H H).\n",
        "\n",
        "Hint: the coin toss can be simulated by using the function ‘rand’ to pick a number between 0 and 1 and outputting heads if the number is greater than 0.5 or else outputting tails. Write your solution using a for-loop to start with.\n",
        "\n",
        "Can you find a way of ‘vectorising’ your algorithm – i.e. writing it without loops? Is it faster?\n",
        "\n",
        "Time your solutions using timeit."
      ]
    },
    {
      "cell_type": "code",
      "execution_count": 9,
      "id": "6bab68d3",
      "metadata": {
        "id": "6bab68d3"
      },
      "outputs": [
        {
          "name": "stdout",
          "output_type": "stream",
          "text": [
            "1.33 s ± 61.7 ms per loop (mean ± std. dev. of 7 runs, 1 loop each)\n"
          ]
        },
        {
          "data": {
            "image/png": "[encoded data removed]",
            "text/plain": [
              "<Figure size 640x480 with 1 Axes>"
            ]
          },
          "metadata": {},
          "output_type": "display_data"
        }
      ],
      "source": [
        "import matplotlib.pyplot as plt\n",
        "\n",
        "def do_tosses(ntosses):\n",
        "    '''\n",
        "    write your solution here\n",
        "    '''\n",
        "    outcomes = np.random.rand(ntosses) > 0.5\n",
        "    sequence_length = 1\n",
        "    sequence_lengths = []\n",
        "    last_outcome = outcomes[0]\n",
        "    for outcome in outcomes[1:]:\n",
        "        if outcome != last_outcome:\n",
        "          sequence_lengths.append(sequence_length)\n",
        "          sequence_length = 1\n",
        "        else:\n",
        "          sequence_length += 1\n",
        "          last_outcome = outcome\n",
        "    sequence_lengths.append(sequence_length)\n",
        "    return sequence_lengths\n",
        "\n",
        "%timeit do_tosses(1000000)\n",
        "\n",
        "sequence_lengths = do_tosses(1000000)\n",
        "x = plt.hist(sequence_lengths, bins=np.linspace(0, 10, 11))"
      ]
    },
    {
      "cell_type": "code",
      "execution_count": 10,
      "id": "85999064",
      "metadata": {
        "id": "85999064"
      },
      "outputs": [
        {
          "name": "stdout",
          "output_type": "stream",
          "text": [
            "[ True False  True ...  True  True False]\n",
            "(array([      0,       1,       3, ...,  999997,  999998, 1000000]),)\n",
            "[[1]\n",
            " [2]\n",
            " [1]\n",
            " ...\n",
            " [2]\n",
            " [1]\n",
            " [2]]\n",
            "[ 0.          0.20408163  0.40816327  0.6122449   0.81632653  1.02040816\n",
            "  1.2244898   1.42857143  1.63265306  1.83673469  2.04081633  2.24489796\n",
            "  2.44897959  2.65306122  2.85714286  3.06122449  3.26530612  3.46938776\n",
            "  3.67346939  3.87755102  4.08163265  4.28571429  4.48979592  4.69387755\n",
            "  4.89795918  5.10204082  5.30612245  5.51020408  5.71428571  5.91836735\n",
            "  6.12244898  6.32653061  6.53061224  6.73469388  6.93877551  7.14285714\n",
            "  7.34693878  7.55102041  7.75510204  7.95918367  8.16326531  8.36734694\n",
            "  8.57142857  8.7755102   8.97959184  9.18367347  9.3877551   9.59183673\n",
            "  9.79591837 10.        ]\n"
          ]
        },
        {
          "data": {
            "image/png": "[encoded data removed]",
            "text/plain": [
              "<Figure size 640x480 with 1 Axes>"
            ]
          },
          "metadata": {},
          "output_type": "display_data"
        }
      ],
      "source": [
        "def do_tosses2(ntosses):\n",
        "    '''\n",
        "    Using a way of ‘vectorising’ to tackle it\n",
        "    '''\n",
        "    outcomes = np.random.rand(ntosses) > 0.5\n",
        "    changes = outcomes[1:] != outcomes[:-1]\n",
        "    print(changes)\n",
        "    changes = np.insert(changes, 0, True)\n",
        "    changes = np.append(changes, True)\n",
        "    change_positions = np.where(changes == True)\n",
        "    print(change_positions)\n",
        "    sequence_lengths = np.diff(change_positions)\n",
        "    print(sequence_lengths.T)\n",
        "    return sequence_lengths.T\n",
        "\n",
        "#%timeit do_tosses2(1000000)\n",
        "\n",
        "sequence_lengths = do_tosses2(1000000)\n",
        "x = plt.hist(sequence_lengths, bins=np.linspace(0, 10,11))\n",
        "print(np.linspace(0, 10))"
      ]
    },
    {
      "cell_type": "markdown",
      "id": "cc710541",
      "metadata": {
        "id": "cc710541"
      },
      "source": [
        "**Exercise 2.** Bias the coin so that it comes up heads with a probability, p, greater than 0.5. How does the shape of the histogram vary with increasing p?"
      ]
    },
    {
      "cell_type": "code",
      "execution_count": 11,
      "id": "077d7d67",
      "metadata": {
        "id": "077d7d67"
      },
      "outputs": [
        {
          "name": "stdout",
          "output_type": "stream",
          "text": [
            "[False False False ...  True  True False]\n",
            "(array([      0,       7,       9, ...,  999997,  999998, 1000000]),)\n",
            "[[7]\n",
            " [2]\n",
            " [3]\n",
            " ...\n",
            " [1]\n",
            " [1]\n",
            " [2]]\n"
          ]
        },
        {
          "data": {
            "image/png": "[encoded data removed]",
            "text/plain": [
              "<Figure size 640x480 with 1 Axes>"
            ]
          },
          "metadata": {},
          "output_type": "display_data"
        }
      ],
      "source": [
        "def do_biased_tosses(bias, ntosses):\n",
        "    '''\n",
        "    write your solution here\n",
        "    '''\n",
        "    outcomes = np.random.rand(ntosses) > bias\n",
        "    changes = outcomes[1:] != outcomes[:-1]\n",
        "    print(changes)\n",
        "    changes = np.insert(changes, 0, True)\n",
        "    changes = np.append(changes, True)\n",
        "    change_positions = np.where(changes == True)\n",
        "    print(change_positions)\n",
        "    sequence_lengths = np.diff(change_positions)\n",
        "    print(sequence_lengths.T)\n",
        "    return sequence_lengths.T\n",
        "\n",
        "# biased coin produces relatively more long unchanging sequences\n",
        "sequence_lengths = do_biased_tosses(0.7, 1000000)\n",
        "x = plt.hist(sequence_lengths, bins=np.linspace(0, 10, 11))"
      ]
    },
    {
      "cell_type": "markdown",
      "id": "9b6034a1",
      "metadata": {
        "id": "9b6034a1"
      },
      "source": []
    }
  ],
  "metadata": {
    "colab": {
      "provenance": []
    },
    "kernelspec": {
      "display_name": "Python 3 (ipykernel)",
      "language": "python",
      "name": "python3"
    },
    "language_info": {
      "codemirror_mode": {
        "name": "ipython",
        "version": 3
      },
      "file_extension": ".py",
      "mimetype": "text/x-python",
      "name": "python",
      "nbconvert_exporter": "python",
      "pygments_lexer": "ipython3",
      "version": "3.9.6"
    }
  },
  "nbformat": 4,
  "nbformat_minor": 5
}
